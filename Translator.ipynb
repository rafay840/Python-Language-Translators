{
 "cells": [
  {
   "cell_type": "code",
   "execution_count": null,
   "metadata": {},
   "outputs": [],
   "source": [
    "!pip install goslate"
   ]
  },
  {
   "cell_type": "code",
   "execution_count": null,
   "metadata": {},
   "outputs": [],
   "source": [
    "import goslate\n",
    "data = input(\"Enter the sentence you want to translate\")\n",
    "translator = goslate.Goslate()\n",
    "translator.translate(data,'ur')\n"
   ]
  },
  {
   "cell_type": "code",
   "execution_count": null,
   "metadata": {},
   "outputs": [],
   "source": [
    "!pip install translate"
   ]
  },
  {
   "cell_type": "code",
   "execution_count": null,
   "metadata": {},
   "outputs": [],
   "source": [
    "from translate import Translator\n",
    "data = input(\"Enter the Sentence you want to translate\")\n",
    "translator = Translator(from_lang=\"English\", to_lang=\"japanese\")\n",
    "translate = translator.translate(data)\n",
    "print(translate);"
   ]
  },
  {
   "cell_type": "code",
   "execution_count": null,
   "metadata": {},
   "outputs": [],
   "source": [
    "from translate import Translator\n",
    "file = open(\"text.txt\",'r')\n",
    "content = file.read()\n",
    "translating_file = Translator(to_lang=\"German\")\n",
    "translation = translator.translate(content)\n",
    "print(translation)"
   ]
  },
  {
   "cell_type": "code",
   "execution_count": 10,
   "metadata": {},
   "outputs": [
    {
     "name": "stdout",
     "output_type": "stream",
     "text": [
      "Requirement already satisfied: textblob in /media/rafay840/75F45BBD7ADA1410/Anaconda/lib/python3.8/site-packages (0.17.1)\n",
      "Requirement already satisfied: nltk>=3.1 in /media/rafay840/75F45BBD7ADA1410/Anaconda/lib/python3.8/site-packages (from textblob) (3.6.1)\n",
      "Requirement already satisfied: click in /media/rafay840/75F45BBD7ADA1410/Anaconda/lib/python3.8/site-packages (from nltk>=3.1->textblob) (7.1.2)\n",
      "Requirement already satisfied: joblib in /media/rafay840/75F45BBD7ADA1410/Anaconda/lib/python3.8/site-packages (from nltk>=3.1->textblob) (1.0.1)\n",
      "Requirement already satisfied: regex in /media/rafay840/75F45BBD7ADA1410/Anaconda/lib/python3.8/site-packages (from nltk>=3.1->textblob) (2021.4.4)\n",
      "Requirement already satisfied: tqdm in /media/rafay840/75F45BBD7ADA1410/Anaconda/lib/python3.8/site-packages (from nltk>=3.1->textblob) (4.59.0)\n"
     ]
    }
   ],
   "source": [
    "!pip install textblob"
   ]
  },
  {
   "cell_type": "code",
   "execution_count": 13,
   "metadata": {},
   "outputs": [
    {
     "data": {
      "text/plain": [
       "TextBlob(\"Esta condición crea una brecha entre las personas mayores y la tecnología que dificulta que las personas mayores acepten y utilicen la tecnología.\")"
      ]
     },
     "execution_count": 13,
     "metadata": {},
     "output_type": "execute_result"
    }
   ],
   "source": [
    "from textblob import TextBlob\n",
    "data = input(\"Enter the sentence you want to translate\")\n",
    "adding_blob = TextBlob(data)\n",
    "adding_blob.translate(to='es')\n"
   ]
  }
 ],
 "metadata": {
  "interpreter": {
   "hash": "08e3eb5ab32ea3c2e9a25fb1c016829906d47d87dd354ac3e729ad101cb0489e"
  },
  "kernelspec": {
   "display_name": "Python 3.8.8 64-bit ('base': conda)",
   "language": "python",
   "name": "python3"
  },
  "language_info": {
   "codemirror_mode": {
    "name": "ipython",
    "version": 3
   },
   "file_extension": ".py",
   "mimetype": "text/x-python",
   "name": "python",
   "nbconvert_exporter": "python",
   "pygments_lexer": "ipython3",
   "version": "3.8.8"
  },
  "orig_nbformat": 4
 },
 "nbformat": 4,
 "nbformat_minor": 2
}
